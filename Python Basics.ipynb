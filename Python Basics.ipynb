{
 "cells": [
  {
   "cell_type": "code",
   "execution_count": 1,
   "id": "6b663d06-233e-4d2f-9875-df792253a904",
   "metadata": {},
   "outputs": [
    {
     "data": {
      "text/plain": [
       "3"
      ]
     },
     "execution_count": 1,
     "metadata": {},
     "output_type": "execute_result"
    }
   ],
   "source": [
    "1+2"
   ]
  },
  {
   "cell_type": "code",
   "execution_count": 2,
   "id": "4d12144a-9db6-4e17-b9ba-a1b6baeb9baf",
   "metadata": {},
   "outputs": [
    {
     "data": {
      "text/plain": [
       "13"
      ]
     },
     "execution_count": 2,
     "metadata": {},
     "output_type": "execute_result"
    }
   ],
   "source": [
    "4+9"
   ]
  },
  {
   "cell_type": "code",
   "execution_count": 1,
   "id": "d78ff0a2-8097-46d9-83be-e5f9f9a7e0f4",
   "metadata": {},
   "outputs": [
    {
     "data": {
      "text/plain": [
       "10"
      ]
     },
     "execution_count": 1,
     "metadata": {},
     "output_type": "execute_result"
    }
   ],
   "source": [
    "5*2"
   ]
  },
  {
   "cell_type": "code",
   "execution_count": 2,
   "id": "2cd29329-6c66-41a2-8744-a7364ba307e3",
   "metadata": {},
   "outputs": [
    {
     "data": {
      "text/plain": [
       "1.0"
      ]
     },
     "execution_count": 2,
     "metadata": {},
     "output_type": "execute_result"
    }
   ],
   "source": [
    "4/4"
   ]
  },
  {
   "cell_type": "code",
   "execution_count": 3,
   "id": "6436fb64-81a6-422e-923d-76eb0910cf0e",
   "metadata": {},
   "outputs": [
    {
     "data": {
      "text/plain": [
       "0.5"
      ]
     },
     "execution_count": 3,
     "metadata": {},
     "output_type": "execute_result"
    }
   ],
   "source": [
    "2/4"
   ]
  },
  {
   "cell_type": "code",
   "execution_count": 14,
   "id": "db7e5e81-19e8-468f-981c-ec12c96975e2",
   "metadata": {},
   "outputs": [
    {
     "data": {
      "text/plain": [
       "6"
      ]
     },
     "execution_count": 14,
     "metadata": {},
     "output_type": "execute_result"
    }
   ],
   "source": [
    "10-4"
   ]
  },
  {
   "cell_type": "code",
   "execution_count": 15,
   "id": "a6bf9541-3dae-4ce1-aa3e-2cff6acbf296",
   "metadata": {},
   "outputs": [],
   "source": [
    "a = 8"
   ]
  },
  {
   "cell_type": "code",
   "execution_count": 16,
   "id": "45ae4d34-a04f-423a-8709-369b83d08be2",
   "metadata": {},
   "outputs": [
    {
     "data": {
      "text/plain": [
       "8"
      ]
     },
     "execution_count": 16,
     "metadata": {},
     "output_type": "execute_result"
    }
   ],
   "source": [
    "a"
   ]
  },
  {
   "cell_type": "code",
   "execution_count": 18,
   "id": "07acf5a7-db02-431b-9f90-e41c40e10ad0",
   "metadata": {},
   "outputs": [],
   "source": [
    "hk = 108"
   ]
  },
  {
   "cell_type": "code",
   "execution_count": 19,
   "id": "dcf7a737-b137-443f-b452-6892f208c382",
   "metadata": {},
   "outputs": [
    {
     "data": {
      "text/plain": [
       "108"
      ]
     },
     "execution_count": 19,
     "metadata": {},
     "output_type": "execute_result"
    }
   ],
   "source": [
    "hk"
   ]
  },
  {
   "cell_type": "code",
   "execution_count": 20,
   "id": "21990119-b669-4f03-9c25-9385523403d6",
   "metadata": {},
   "outputs": [],
   "source": [
    "hare = 108"
   ]
  },
  {
   "cell_type": "code",
   "execution_count": 21,
   "id": "71f67a02-1349-4bb8-a13f-11a809fbfc74",
   "metadata": {},
   "outputs": [
    {
     "data": {
      "text/plain": [
       "108"
      ]
     },
     "execution_count": 21,
     "metadata": {},
     "output_type": "execute_result"
    }
   ],
   "source": [
    "hare "
   ]
  },
  {
   "cell_type": "code",
   "execution_count": 22,
   "id": "c05b1b91-3c97-4fea-92aa-362e7ecd1bf9",
   "metadata": {},
   "outputs": [],
   "source": [
    "hare = 54"
   ]
  },
  {
   "cell_type": "code",
   "execution_count": 23,
   "id": "e90a19fb-b315-491f-b774-a0886e4e112a",
   "metadata": {},
   "outputs": [],
   "source": [
    "krishna = 54"
   ]
  },
  {
   "cell_type": "code",
   "execution_count": 24,
   "id": "32b614cd-7c87-41ff-ba90-67a0333ad959",
   "metadata": {},
   "outputs": [
    {
     "data": {
      "text/plain": [
       "108"
      ]
     },
     "execution_count": 24,
     "metadata": {},
     "output_type": "execute_result"
    }
   ],
   "source": [
    "hare + krishna "
   ]
  },
  {
   "cell_type": "code",
   "execution_count": 25,
   "id": "d666e6e7-e644-4582-a737-55cc5e60b609",
   "metadata": {},
   "outputs": [],
   "source": [
    "hare = 54\n",
    "krishna = 54"
   ]
  },
  {
   "cell_type": "code",
   "execution_count": 26,
   "id": "548d968f-9ebb-475f-929a-9ddaf3945145",
   "metadata": {},
   "outputs": [
    {
     "data": {
      "text/plain": [
       "108"
      ]
     },
     "execution_count": 26,
     "metadata": {},
     "output_type": "execute_result"
    }
   ],
   "source": [
    "hare + krishna "
   ]
  },
  {
   "cell_type": "code",
   "execution_count": 27,
   "id": "939b2e92-06b3-4370-9220-83241b0c558b",
   "metadata": {},
   "outputs": [
    {
     "data": {
      "text/plain": [
       "2916"
      ]
     },
     "execution_count": 27,
     "metadata": {},
     "output_type": "execute_result"
    }
   ],
   "source": [
    "hare*krishna"
   ]
  },
  {
   "cell_type": "code",
   "execution_count": 28,
   "id": "70af4bf6-72fa-4d63-8d30-04da30098901",
   "metadata": {},
   "outputs": [
    {
     "data": {
      "text/plain": [
       "1.0"
      ]
     },
     "execution_count": 28,
     "metadata": {},
     "output_type": "execute_result"
    }
   ],
   "source": [
    "hare/krishna"
   ]
  },
  {
   "cell_type": "code",
   "execution_count": 29,
   "id": "c86fc822-6795-4ea4-8805-9eb7929bc9e6",
   "metadata": {},
   "outputs": [
    {
     "data": {
      "text/plain": [
       "0"
      ]
     },
     "execution_count": 29,
     "metadata": {},
     "output_type": "execute_result"
    }
   ],
   "source": [
    "hare-krishna"
   ]
  },
  {
   "cell_type": "code",
   "execution_count": 34,
   "id": "6aa6a3ad-9592-4c9f-a22d-2d5292faa031",
   "metadata": {},
   "outputs": [
    {
     "data": {
      "text/plain": [
       "int"
      ]
     },
     "execution_count": 34,
     "metadata": {},
     "output_type": "execute_result"
    }
   ],
   "source": [
    "type(hare)"
   ]
  },
  {
   "cell_type": "code",
   "execution_count": 38,
   "id": "4005d78b-df16-464e-9232-d95bbc07c06f",
   "metadata": {},
   "outputs": [
    {
     "data": {
      "text/plain": [
       "int"
      ]
     },
     "execution_count": 38,
     "metadata": {},
     "output_type": "execute_result"
    }
   ],
   "source": [
    "type(krishna)"
   ]
  },
  {
   "cell_type": "code",
   "execution_count": 1,
   "id": "0f85ea36-6cba-4f53-b178-edd46351b394",
   "metadata": {},
   "outputs": [],
   "source": [
    "b = 2.09"
   ]
  },
  {
   "cell_type": "code",
   "execution_count": 4,
   "id": "80dfe1bd-c041-4b3c-b883-aae0bb4447dd",
   "metadata": {},
   "outputs": [
    {
     "data": {
      "text/plain": [
       "float"
      ]
     },
     "execution_count": 4,
     "metadata": {},
     "output_type": "execute_result"
    }
   ],
   "source": [
    "type(b)"
   ]
  },
  {
   "cell_type": "code",
   "execution_count": 5,
   "id": "32a90670-199f-4efe-adea-e6eaa3f536d2",
   "metadata": {},
   "outputs": [],
   "source": [
    "c = 45.7463"
   ]
  },
  {
   "cell_type": "code",
   "execution_count": 6,
   "id": "30f4061c-28db-4f0c-bdb6-b96b8727b713",
   "metadata": {},
   "outputs": [
    {
     "data": {
      "text/plain": [
       "float"
      ]
     },
     "execution_count": 6,
     "metadata": {},
     "output_type": "execute_result"
    }
   ],
   "source": [
    "type(c)"
   ]
  },
  {
   "cell_type": "code",
   "execution_count": 7,
   "id": "4dd26d16-2986-4bf5-b34b-642f3082a42f",
   "metadata": {},
   "outputs": [],
   "source": [
    "d = \"hare krishna\""
   ]
  },
  {
   "cell_type": "code",
   "execution_count": 8,
   "id": "944a664d-22d8-493d-8d02-322c38adba2c",
   "metadata": {},
   "outputs": [
    {
     "data": {
      "text/plain": [
       "str"
      ]
     },
     "execution_count": 8,
     "metadata": {},
     "output_type": "execute_result"
    }
   ],
   "source": [
    "type(d)"
   ]
  },
  {
   "cell_type": "code",
   "execution_count": 9,
   "id": "8bbf6cdd-492b-43d8-b794-95d06ca1a8b7",
   "metadata": {},
   "outputs": [],
   "source": [
    "hare = \"Radha\"\n",
    "krishna = \"Krishna\""
   ]
  },
  {
   "cell_type": "code",
   "execution_count": 10,
   "id": "16b8b951-de57-45b4-9965-a70475cef869",
   "metadata": {},
   "outputs": [
    {
     "data": {
      "text/plain": [
       "'RadhaKrishna'"
      ]
     },
     "execution_count": 10,
     "metadata": {},
     "output_type": "execute_result"
    }
   ],
   "source": [
    "hare + krishna "
   ]
  },
  {
   "cell_type": "code",
   "execution_count": 14,
   "id": "ebebb649-ada3-481b-88cb-465a44960bca",
   "metadata": {},
   "outputs": [
    {
     "data": {
      "text/plain": [
       "'RadhaKrishna'"
      ]
     },
     "execution_count": 14,
     "metadata": {},
     "output_type": "execute_result"
    }
   ],
   "source": [
    "hare+krishna"
   ]
  },
  {
   "cell_type": "code",
   "execution_count": 15,
   "id": "c8643592-acb5-4869-ab79-8c5a041429de",
   "metadata": {},
   "outputs": [],
   "source": [
    "e = \"this is my first class\""
   ]
  },
  {
   "cell_type": "code",
   "execution_count": 19,
   "id": "3149851f-e3a5-4e7e-b693-645d17c89c22",
   "metadata": {},
   "outputs": [
    {
     "data": {
      "text/plain": [
       "str"
      ]
     },
     "execution_count": 19,
     "metadata": {},
     "output_type": "execute_result"
    }
   ],
   "source": [
    "type(e)"
   ]
  },
  {
   "cell_type": "code",
   "execution_count": null,
   "id": "abdea449-bf0d-46c8-8935-adfafb4cd2a9",
   "metadata": {},
   "outputs": [],
   "source": [
    "for ' and \", both will considered as a string"
   ]
  },
  {
   "cell_type": "code",
   "execution_count": 20,
   "id": "e65f2377-f54c-44f0-a7a7-3fc3a57564b9",
   "metadata": {},
   "outputs": [],
   "source": [
    "n = True"
   ]
  },
  {
   "cell_type": "code",
   "execution_count": 21,
   "id": "fd3364c5-8661-4949-84b7-0f4a93c54cbf",
   "metadata": {},
   "outputs": [
    {
     "data": {
      "text/plain": [
       "bool"
      ]
     },
     "execution_count": 21,
     "metadata": {},
     "output_type": "execute_result"
    }
   ],
   "source": [
    "type(n)"
   ]
  },
  {
   "cell_type": "code",
   "execution_count": 23,
   "id": "ea4a2759-4fc7-4e63-92cf-04039d646c04",
   "metadata": {},
   "outputs": [],
   "source": [
    "m = False"
   ]
  },
  {
   "cell_type": "code",
   "execution_count": 24,
   "id": "f2ead272-77a5-4cbc-aa37-a6f253fcb1ed",
   "metadata": {},
   "outputs": [
    {
     "data": {
      "text/plain": [
       "bool"
      ]
     },
     "execution_count": 24,
     "metadata": {},
     "output_type": "execute_result"
    }
   ],
   "source": [
    "type(m)"
   ]
  },
  {
   "cell_type": "code",
   "execution_count": null,
   "id": "88921a60-7b8d-4388-b790-3f2779e2a952",
   "metadata": {},
   "outputs": [],
   "source": [
    "boolean function for \"True\" and \"False\""
   ]
  },
  {
   "cell_type": "code",
   "execution_count": 26,
   "id": "c5c06677-11d0-4294-9271-37a195f499fd",
   "metadata": {},
   "outputs": [
    {
     "data": {
      "text/plain": [
       "1"
      ]
     },
     "execution_count": 26,
     "metadata": {},
     "output_type": "execute_result"
    }
   ],
   "source": [
    "n+m"
   ]
  },
  {
   "cell_type": "code",
   "execution_count": null,
   "id": "ed196377-2c4c-42dc-ae51-e2482f182670",
   "metadata": {},
   "outputs": [],
   "source": [
    "why 1... bocz True = 1 and False = 0"
   ]
  },
  {
   "cell_type": "code",
   "execution_count": 29,
   "id": "2006c049-e880-464b-9269-088a23051843",
   "metadata": {},
   "outputs": [
    {
     "data": {
      "text/plain": [
       "1"
      ]
     },
     "execution_count": 29,
     "metadata": {},
     "output_type": "execute_result"
    }
   ],
   "source": [
    "True * True"
   ]
  },
  {
   "cell_type": "code",
   "execution_count": 30,
   "id": "97550def-cc73-4072-90ea-234ea04c3f56",
   "metadata": {},
   "outputs": [
    {
     "data": {
      "text/plain": [
       "2"
      ]
     },
     "execution_count": 30,
     "metadata": {},
     "output_type": "execute_result"
    }
   ],
   "source": [
    "True + True"
   ]
  },
  {
   "cell_type": "code",
   "execution_count": 31,
   "id": "e852a879-dffe-4b9d-9705-2e6f7d0d68d1",
   "metadata": {},
   "outputs": [
    {
     "data": {
      "text/plain": [
       "0"
      ]
     },
     "execution_count": 31,
     "metadata": {},
     "output_type": "execute_result"
    }
   ],
   "source": [
    "True * False"
   ]
  },
  {
   "cell_type": "code",
   "execution_count": 32,
   "id": "231f7519-9013-4227-a49c-1b397949d893",
   "metadata": {},
   "outputs": [
    {
     "ename": "ZeroDivisionError",
     "evalue": "division by zero",
     "output_type": "error",
     "traceback": [
      "\u001b[0;31m---------------------------------------------------------------------------\u001b[0m",
      "\u001b[0;31mZeroDivisionError\u001b[0m                         Traceback (most recent call last)",
      "Cell \u001b[0;32mIn[32], line 1\u001b[0m\n\u001b[0;32m----> 1\u001b[0m \u001b[38;5;28;43;01mTrue\u001b[39;49;00m\u001b[38;5;241;43m/\u001b[39;49m\u001b[38;5;28;43;01mFalse\u001b[39;49;00m\n",
      "\u001b[0;31mZeroDivisionError\u001b[0m: division by zero"
     ]
    }
   ],
   "source": [
    "True/False"
   ]
  },
  {
   "cell_type": "code",
   "execution_count": 33,
   "id": "38bd1259-faf4-43db-ba43-6d4251208963",
   "metadata": {},
   "outputs": [
    {
     "ename": "ZeroDivisionError",
     "evalue": "division by zero",
     "output_type": "error",
     "traceback": [
      "\u001b[0;31m---------------------------------------------------------------------------\u001b[0m",
      "\u001b[0;31mZeroDivisionError\u001b[0m                         Traceback (most recent call last)",
      "Cell \u001b[0;32mIn[33], line 1\u001b[0m\n\u001b[0;32m----> 1\u001b[0m \u001b[38;5;241;43m1\u001b[39;49m\u001b[38;5;241;43m/\u001b[39;49m\u001b[38;5;241;43m0\u001b[39;49m\n",
      "\u001b[0;31mZeroDivisionError\u001b[0m: division by zero"
     ]
    }
   ],
   "source": [
    "1/0"
   ]
  },
  {
   "cell_type": "code",
   "execution_count": null,
   "id": "913e3e6f-32c1-4b3f-a260-4bd637f32410",
   "metadata": {},
   "outputs": [],
   "source": [
    "in core pyhton it is showing error but in NUMPY 1/0 shows infinity"
   ]
  },
  {
   "cell_type": "code",
   "execution_count": null,
   "id": "e20cbc0e-f865-4a3b-9af3-2dbcec7b42ca",
   "metadata": {},
   "outputs": [],
   "source": [
    "COMPLEX NUMBERS\n",
    "complex number is a group of real and imaginary numbers"
   ]
  },
  {
   "cell_type": "code",
   "execution_count": 34,
   "id": "eb61f438-02d2-4aac-8266-71e17b286208",
   "metadata": {},
   "outputs": [],
   "source": [
    "v = 5 + 8j"
   ]
  },
  {
   "cell_type": "code",
   "execution_count": 35,
   "id": "0dd64aaa-1117-4427-893e-2c6fe99ff88a",
   "metadata": {},
   "outputs": [
    {
     "data": {
      "text/plain": [
       "complex"
      ]
     },
     "execution_count": 35,
     "metadata": {},
     "output_type": "execute_result"
    }
   ],
   "source": [
    "type(v)"
   ]
  },
  {
   "cell_type": "code",
   "execution_count": null,
   "id": "d1c05c19-22fb-41a3-b83c-ac5b2dd8cfc2",
   "metadata": {},
   "outputs": [],
   "source": [
    "PHYTHON \"i\" nhi samajhta...... thats why we used \"j\""
   ]
  },
  {
   "cell_type": "code",
   "execution_count": null,
   "id": "5ff65ad9-e04b-4172-9b2e-e82364e943a4",
   "metadata": {},
   "outputs": [],
   "source": [
    "computer samajhta hai ki \"j\" ke sath wala imaginary component hai"
   ]
  },
  {
   "cell_type": "code",
   "execution_count": 41,
   "id": "bbc190ff-dab3-41b1-826e-3c06cf852ac0",
   "metadata": {},
   "outputs": [
    {
     "data": {
      "text/plain": [
       "5.0"
      ]
     },
     "execution_count": 41,
     "metadata": {},
     "output_type": "execute_result"
    }
   ],
   "source": [
    "v.real"
   ]
  },
  {
   "cell_type": "code",
   "execution_count": 42,
   "id": "5758f82b-65ed-439b-9693-07f22adf1c96",
   "metadata": {},
   "outputs": [
    {
     "data": {
      "text/plain": [
       "complex"
      ]
     },
     "execution_count": 42,
     "metadata": {},
     "output_type": "execute_result"
    }
   ],
   "source": [
    "type(v)"
   ]
  },
  {
   "cell_type": "code",
   "execution_count": 50,
   "id": "55244fb4-ce5d-46f7-bc40-54524193f1c2",
   "metadata": {},
   "outputs": [],
   "source": [
    "harekrishna = 54 + 108j "
   ]
  },
  {
   "cell_type": "code",
   "execution_count": 51,
   "id": "1af5ac56-f52d-481f-946b-bfab337b72ec",
   "metadata": {},
   "outputs": [
    {
     "data": {
      "text/plain": [
       "complex"
      ]
     },
     "execution_count": 51,
     "metadata": {},
     "output_type": "execute_result"
    }
   ],
   "source": [
    "type(harekrishna)"
   ]
  },
  {
   "cell_type": "code",
   "execution_count": 52,
   "id": "d56fed9f-d336-44e4-8184-4908e1537353",
   "metadata": {},
   "outputs": [
    {
     "data": {
      "text/plain": [
       "54.0"
      ]
     },
     "execution_count": 52,
     "metadata": {},
     "output_type": "execute_result"
    }
   ],
   "source": [
    "harekrishna.real"
   ]
  },
  {
   "cell_type": "code",
   "execution_count": 53,
   "id": "da3bc4ed-cd37-4744-9220-fcb8c408b530",
   "metadata": {},
   "outputs": [
    {
     "data": {
      "text/plain": [
       "108.0"
      ]
     },
     "execution_count": 53,
     "metadata": {},
     "output_type": "execute_result"
    }
   ],
   "source": [
    "harekrishna.imag"
   ]
  },
  {
   "cell_type": "code",
   "execution_count": null,
   "id": "e04e1d67-8725-4861-b6c7-ba790a8abc39",
   "metadata": {},
   "outputs": [],
   "source": [
    "jab hum same variable ki new value ko define krte hain to purani value ko garbage collection me daal deta hai... in short use boycott krdeta hai....... thats why yha pat harekrishna ki value ko dubara define krna pada"
   ]
  },
  {
   "cell_type": "code",
   "execution_count": 54,
   "id": "16cf0f44-7efe-41eb-b610-cdf2188407f2",
   "metadata": {},
   "outputs": [
    {
     "data": {
      "text/plain": [
       "complex"
      ]
     },
     "execution_count": 54,
     "metadata": {},
     "output_type": "execute_result"
    }
   ],
   "source": [
    "type(harekrishna)"
   ]
  },
  {
   "cell_type": "code",
   "execution_count": null,
   "id": "54dfb48b-151b-4559-8677-dfea758af0cc",
   "metadata": {},
   "outputs": [],
   "source": [
    "jab hame ye janna hai ki koi particular tab kya krta hai to hame us type pr jake SHIFT + TAB ko dabanma hai"
   ]
  },
  {
   "cell_type": "code",
   "execution_count": 55,
   "id": "e5b99361-bde4-4fea-be5e-abe860490245",
   "metadata": {},
   "outputs": [
    {
     "data": {
      "text/plain": [
       "(54+108j)"
      ]
     },
     "execution_count": 55,
     "metadata": {},
     "output_type": "execute_result"
    }
   ],
   "source": [
    "harekrishna"
   ]
  },
  {
   "cell_type": "code",
   "execution_count": 57,
   "id": "5ecb4133-03ad-4ee6-88a9-11cd403321e2",
   "metadata": {},
   "outputs": [
    {
     "name": "stdout",
     "output_type": "stream",
     "text": [
      "jivera swaruup haya krishna nitya dasa\n"
     ]
    }
   ],
   "source": [
    "print(\"jivera swaruup haya krishna nitya dasa\")"
   ]
  },
  {
   "cell_type": "code",
   "execution_count": null,
   "id": "9c837226-43f9-4395-8fcf-25dd2f6b6c38",
   "metadata": {},
   "outputs": [],
   "source": [
    "jab bhi koi character dale or string to hame ' and \" lagana hai"
   ]
  },
  {
   "cell_type": "code",
   "execution_count": 59,
   "id": "6ed18256-2877-401e-8c19-fb0a1af26f58",
   "metadata": {},
   "outputs": [
    {
     "ename": "SyntaxError",
     "evalue": "invalid syntax. Perhaps you forgot a comma? (2156220585.py, line 1)",
     "output_type": "error",
     "traceback": [
      "\u001b[0;36m  Cell \u001b[0;32mIn[59], line 1\u001b[0;36m\u001b[0m\n\u001b[0;31m    print(jivera swaruup haya krishna nitya dasa)\u001b[0m\n\u001b[0m          ^\u001b[0m\n\u001b[0;31mSyntaxError\u001b[0m\u001b[0;31m:\u001b[0m invalid syntax. Perhaps you forgot a comma?\n"
     ]
    }
   ],
   "source": [
    "print(jivera swaruup haya krishna nitya dasa)"
   ]
  },
  {
   "cell_type": "code",
   "execution_count": 60,
   "id": "0642549c-751b-4a94-8154-dce056a05d6c",
   "metadata": {},
   "outputs": [
    {
     "name": "stdout",
     "output_type": "stream",
     "text": [
      "(54+108j)\n"
     ]
    }
   ],
   "source": [
    "print(harekrishna)"
   ]
  },
  {
   "cell_type": "code",
   "execution_count": 61,
   "id": "361f3c66-e835-466a-94a9-153506f23012",
   "metadata": {},
   "outputs": [],
   "source": [
    "h = \"harekrishna\""
   ]
  },
  {
   "cell_type": "code",
   "execution_count": 62,
   "id": "dbb40bd1-3e9b-4beb-9081-92ff3d88c0c4",
   "metadata": {},
   "outputs": [
    {
     "data": {
      "text/plain": [
       "str"
      ]
     },
     "execution_count": 62,
     "metadata": {},
     "output_type": "execute_result"
    }
   ],
   "source": [
    "type(h)"
   ]
  },
  {
   "cell_type": "code",
   "execution_count": 63,
   "id": "730b79b6-ecbd-4c8f-ac50-245e7b1870e4",
   "metadata": {},
   "outputs": [
    {
     "name": "stdout",
     "output_type": "stream",
     "text": [
      "harekrishna\n"
     ]
    }
   ],
   "source": [
    "print(h)"
   ]
  },
  {
   "cell_type": "code",
   "execution_count": null,
   "id": "b3dd59ee-9d1e-4d64-ba00-41bad6067294",
   "metadata": {},
   "outputs": [],
   "source": [
    "system string ki indexing apne aap krdeta hai\n",
    "harekrishna\n",
    "012345678910"
   ]
  },
  {
   "cell_type": "code",
   "execution_count": 64,
   "id": "53244b45-d10f-46b0-aac0-fbd71c40ab74",
   "metadata": {},
   "outputs": [
    {
     "data": {
      "text/plain": [
       "'h'"
      ]
     },
     "execution_count": 64,
     "metadata": {},
     "output_type": "execute_result"
    }
   ],
   "source": [
    "h[0]"
   ]
  },
  {
   "cell_type": "code",
   "execution_count": 65,
   "id": "5612d963-d0f8-41d0-b7f6-2922cb004377",
   "metadata": {},
   "outputs": [
    {
     "data": {
      "text/plain": [
       "'r'"
      ]
     },
     "execution_count": 65,
     "metadata": {},
     "output_type": "execute_result"
    }
   ],
   "source": [
    "h[5]"
   ]
  },
  {
   "cell_type": "code",
   "execution_count": 66,
   "id": "7d19160a-24b3-4f15-adfe-02e4ea100176",
   "metadata": {},
   "outputs": [
    {
     "data": {
      "text/plain": [
       "'k'"
      ]
     },
     "execution_count": 66,
     "metadata": {},
     "output_type": "execute_result"
    }
   ],
   "source": [
    "h[4]"
   ]
  },
  {
   "cell_type": "code",
   "execution_count": 67,
   "id": "5e3a64f3-690c-4a0b-bffe-fba3ae693b14",
   "metadata": {},
   "outputs": [
    {
     "data": {
      "text/plain": [
       "'r'"
      ]
     },
     "execution_count": 67,
     "metadata": {},
     "output_type": "execute_result"
    }
   ],
   "source": [
    "h[2]"
   ]
  },
  {
   "cell_type": "code",
   "execution_count": null,
   "id": "78f96f02-3f0f-4e1d-8c3d-e5b6e0d77b3b",
   "metadata": {},
   "outputs": [],
   "source": [
    "indexing hamesha 0 se shuru hoti hai in the FORWARD DIRECTION but in backward direction too\n",
    "harekrishna\n",
    "-1,-2,-3,-4,-5,-6,-7,-8,-9,-10,-11,-12"
   ]
  },
  {
   "cell_type": "code",
   "execution_count": 70,
   "id": "42c1322d-c0bf-483c-87f3-fb28b21645be",
   "metadata": {},
   "outputs": [
    {
     "data": {
      "text/plain": [
       "'k'"
      ]
     },
     "execution_count": 70,
     "metadata": {},
     "output_type": "execute_result"
    }
   ],
   "source": [
    "h[-7]"
   ]
  },
  {
   "cell_type": "code",
   "execution_count": 71,
   "id": "c0c56871-4424-4a5a-b9a5-a52722d32279",
   "metadata": {},
   "outputs": [
    {
     "data": {
      "text/plain": [
       "'r'"
      ]
     },
     "execution_count": 71,
     "metadata": {},
     "output_type": "execute_result"
    }
   ],
   "source": [
    "h[-9]"
   ]
  },
  {
   "cell_type": "code",
   "execution_count": null,
   "id": "b1ed5c57-3fce-448b-ad9b-0e1eb8285bbe",
   "metadata": {},
   "outputs": [],
   "source": [
    "agr hamee variable se 1 point se another point tak kuch nikalna hia to kese niakle ??"
   ]
  },
  {
   "cell_type": "code",
   "execution_count": 75,
   "id": "b6b73a19-3951-4a2f-b0c5-2fc3cd2d05e6",
   "metadata": {},
   "outputs": [
    {
     "data": {
      "text/plain": [
       "'hare'"
      ]
     },
     "execution_count": 75,
     "metadata": {},
     "output_type": "execute_result"
    }
   ],
   "source": [
    "h[0:4]"
   ]
  },
  {
   "cell_type": "code",
   "execution_count": null,
   "id": "4cbc80d5-0b4a-4b92-ac06-21065cca74ee",
   "metadata": {},
   "outputs": [],
   "source": [
    "hamne to range di hai vo end range se, 1 kam tak ka data nikalega"
   ]
  },
  {
   "cell_type": "code",
   "execution_count": 79,
   "id": "6949f32f-1f4c-4c25-a1d2-1542f69d9263",
   "metadata": {},
   "outputs": [
    {
     "data": {
      "text/plain": [
       "'krishn'"
      ]
     },
     "execution_count": 79,
     "metadata": {},
     "output_type": "execute_result"
    }
   ],
   "source": [
    "h[4:10]"
   ]
  },
  {
   "cell_type": "code",
   "execution_count": 80,
   "id": "8e6c20cd-c648-44ce-8f3f-d31b13c90cc7",
   "metadata": {},
   "outputs": [
    {
     "data": {
      "text/plain": [
       "'krishna'"
      ]
     },
     "execution_count": 80,
     "metadata": {},
     "output_type": "execute_result"
    }
   ],
   "source": [
    "h[4:11]"
   ]
  },
  {
   "cell_type": "code",
   "execution_count": null,
   "id": "170fa7d3-2210-44c2-b6aa-d59065936bcb",
   "metadata": {},
   "outputs": [],
   "source": [
    "agr hame variable se alternate data nikalne ho to??"
   ]
  },
  {
   "cell_type": "code",
   "execution_count": null,
   "id": "78f4b8eb-9728-423d-a4c7-a2ee4cdf3652",
   "metadata": {},
   "outputs": [],
   "source": [
    "[0:11:2]\n",
    "start:end:jump"
   ]
  },
  {
   "cell_type": "code",
   "execution_count": 81,
   "id": "3f6e92c8-b78e-47d1-9913-19fa1bf9bf8c",
   "metadata": {},
   "outputs": [
    {
     "data": {
      "text/plain": [
       "'hrkiha'"
      ]
     },
     "execution_count": 81,
     "metadata": {},
     "output_type": "execute_result"
    }
   ],
   "source": [
    "h[0:11:2]"
   ]
  },
  {
   "cell_type": "code",
   "execution_count": 82,
   "id": "f8440915-a8a9-42e8-a5da-c16b243d60b4",
   "metadata": {},
   "outputs": [
    {
     "data": {
      "text/plain": [
       "'hrkiha'"
      ]
     },
     "execution_count": 82,
     "metadata": {},
     "output_type": "execute_result"
    }
   ],
   "source": [
    "h[::2]"
   ]
  },
  {
   "cell_type": "code",
   "execution_count": null,
   "id": "df422fa4-202c-48a3-a662-b97dba53e99f",
   "metadata": {},
   "outputs": [],
   "source": [
    "agr kuch define nhi krte start point or end pint ke baare me to System samajhega ki hame start to end tak jana hia"
   ]
  },
  {
   "cell_type": "code",
   "execution_count": 83,
   "id": "d5eff5c1-8126-46b3-af06-649a2029e4bf",
   "metadata": {},
   "outputs": [
    {
     "data": {
      "text/plain": [
       "'rkiha'"
      ]
     },
     "execution_count": 83,
     "metadata": {},
     "output_type": "execute_result"
    }
   ],
   "source": [
    "h[2::2]"
   ]
  },
  {
   "cell_type": "code",
   "execution_count": 84,
   "id": "dff1506e-d542-4c6d-bb11-bae7abe32552",
   "metadata": {},
   "outputs": [
    {
     "ename": "ValueError",
     "evalue": "slice step cannot be zero",
     "output_type": "error",
     "traceback": [
      "\u001b[0;31m---------------------------------------------------------------------------\u001b[0m",
      "\u001b[0;31mValueError\u001b[0m                                Traceback (most recent call last)",
      "Cell \u001b[0;32mIn[84], line 1\u001b[0m\n\u001b[0;32m----> 1\u001b[0m \u001b[43mh\u001b[49m\u001b[43m[\u001b[49m\u001b[38;5;241;43m2\u001b[39;49m\u001b[43m:\u001b[49m\u001b[43m:\u001b[49m\u001b[38;5;241;43m0\u001b[39;49m\u001b[43m]\u001b[49m\n",
      "\u001b[0;31mValueError\u001b[0m: slice step cannot be zero"
     ]
    }
   ],
   "source": [
    "h[2::0]"
   ]
  },
  {
   "cell_type": "code",
   "execution_count": null,
   "id": "28fe8873-2a77-468a-ba51-8464219d044c",
   "metadata": {},
   "outputs": [],
   "source": [
    "jump cannot be zero"
   ]
  },
  {
   "cell_type": "code",
   "execution_count": 85,
   "id": "63be37c9-708a-48e4-b8af-9ac1f509b115",
   "metadata": {},
   "outputs": [
    {
     "data": {
      "text/plain": [
       "'harekrishna'"
      ]
     },
     "execution_count": 85,
     "metadata": {},
     "output_type": "execute_result"
    }
   ],
   "source": [
    "h[::1]"
   ]
  },
  {
   "cell_type": "code",
   "execution_count": 87,
   "id": "a5bf2f84-fdca-4553-be95-015f399dcf18",
   "metadata": {},
   "outputs": [
    {
     "data": {
      "text/plain": [
       "'hare'"
      ]
     },
     "execution_count": 87,
     "metadata": {},
     "output_type": "execute_result"
    }
   ],
   "source": [
    "h[0:4:1]"
   ]
  },
  {
   "cell_type": "code",
   "execution_count": null,
   "id": "2fee736e-cfbd-4e07-835c-989f7ce06d56",
   "metadata": {},
   "outputs": [],
   "source": [
    "agr ulta print karwana ho to "
   ]
  },
  {
   "cell_type": "code",
   "execution_count": 88,
   "id": "f4ee69ce-4eed-4b31-9765-4995c36d6606",
   "metadata": {},
   "outputs": [
    {
     "data": {
      "text/plain": [
       "'anhsirkerah'"
      ]
     },
     "execution_count": 88,
     "metadata": {},
     "output_type": "execute_result"
    }
   ],
   "source": [
    "h[::-1]"
   ]
  },
  {
   "cell_type": "code",
   "execution_count": 89,
   "id": "382ad759-0acb-46ea-990b-1e6c1ac99bdf",
   "metadata": {},
   "outputs": [
    {
     "data": {
      "text/plain": [
       "'ahikrh'"
      ]
     },
     "execution_count": 89,
     "metadata": {},
     "output_type": "execute_result"
    }
   ],
   "source": [
    "h[::-2]"
   ]
  },
  {
   "cell_type": "code",
   "execution_count": 90,
   "id": "11fdb5be-e081-4786-b092-be0a79afe02d",
   "metadata": {},
   "outputs": [
    {
     "data": {
      "text/plain": [
       "''"
      ]
     },
     "execution_count": 90,
     "metadata": {},
     "output_type": "execute_result"
    }
   ],
   "source": [
    "h[0:10:-1]"
   ]
  },
  {
   "cell_type": "code",
   "execution_count": null,
   "id": "98c4e6e1-0ac2-47d4-95b6-78af2b9bab1e",
   "metadata": {},
   "outputs": [],
   "source": [
    "WHY '' ??\n",
    "kyuki ham ja to rhe hain 0-10 but jumping ho rhi hai ulti direction me \n",
    "jab hum jump ki koi value nhi dete to vo by default 1 ho ajti hai"
   ]
  },
  {
   "cell_type": "code",
   "execution_count": 91,
   "id": "468b8be6-398e-402b-bd8e-e4f951c8134d",
   "metadata": {},
   "outputs": [
    {
     "data": {
      "text/plain": [
       "''"
      ]
     },
     "execution_count": 91,
     "metadata": {},
     "output_type": "execute_result"
    }
   ],
   "source": [
    "h[10:5]"
   ]
  },
  {
   "cell_type": "code",
   "execution_count": null,
   "id": "fd95a291-2c08-40b5-a6be-7e76c97911ed",
   "metadata": {},
   "outputs": [],
   "source": [
    "why '' ?? bocz hum move backward kr rhe hain or jumping +1 fprward me rhi hai"
   ]
  },
  {
   "cell_type": "code",
   "execution_count": 96,
   "id": "d7f66dba-d3e2-4c06-861b-286a9a3b4266",
   "metadata": {},
   "outputs": [
    {
     "data": {
      "text/plain": [
       "'anhsirkera'"
      ]
     },
     "execution_count": 96,
     "metadata": {},
     "output_type": "execute_result"
    }
   ],
   "source": [
    "h[10:0:-1]"
   ]
  },
  {
   "cell_type": "code",
   "execution_count": null,
   "id": "fc720392-6592-411e-b66b-34f03b6f8757",
   "metadata": {},
   "outputs": [],
   "source": [
    "h isliy nhi aaya kyuki final range 0 hai or vo lower bound hai or vo 1 value kam tak ka data det ahai"
   ]
  },
  {
   "cell_type": "code",
   "execution_count": 97,
   "id": "aa834e68-6a82-43c2-bac0-d97a32a99d02",
   "metadata": {},
   "outputs": [
    {
     "data": {
      "text/plain": [
       "''"
      ]
     },
     "execution_count": 97,
     "metadata": {},
     "output_type": "execute_result"
    }
   ],
   "source": [
    "h[-1:-10:1]"
   ]
  },
  {
   "cell_type": "code",
   "execution_count": null,
   "id": "f68ca295-4475-4b0b-a878-50419d4c1aa0",
   "metadata": {},
   "outputs": [],
   "source": [
    "same range backward direction me hai but jumping forward direction me hai"
   ]
  },
  {
   "cell_type": "code",
   "execution_count": 99,
   "id": "8e6d1908-eb30-4776-9aed-9a31dd3cd57a",
   "metadata": {},
   "outputs": [
    {
     "data": {
      "text/plain": [
       "'anhsirkerah'"
      ]
     },
     "execution_count": 99,
     "metadata": {},
     "output_type": "execute_result"
    }
   ],
   "source": [
    "h[-1:-12:-1]"
   ]
  },
  {
   "cell_type": "code",
   "execution_count": 100,
   "id": "437fcd12-5774-48e6-8a0f-534e22d2630e",
   "metadata": {},
   "outputs": [
    {
     "data": {
      "text/plain": [
       "'anhsirkerah'"
      ]
     },
     "execution_count": 100,
     "metadata": {},
     "output_type": "execute_result"
    }
   ],
   "source": [
    "h[::-1]"
   ]
  },
  {
   "cell_type": "code",
   "execution_count": 101,
   "id": "b7612730-0af6-42bb-98d9-0fdd6743d125",
   "metadata": {},
   "outputs": [
    {
     "data": {
      "text/plain": [
       "'anhsirkera'"
      ]
     },
     "execution_count": 101,
     "metadata": {},
     "output_type": "execute_result"
    }
   ],
   "source": [
    "h[:-11:-1]"
   ]
  },
  {
   "cell_type": "code",
   "execution_count": 102,
   "id": "f0c269a1-8332-485d-9af7-34844628b397",
   "metadata": {},
   "outputs": [
    {
     "data": {
      "text/plain": [
       "'harekrishna'"
      ]
     },
     "execution_count": 102,
     "metadata": {},
     "output_type": "execute_result"
    }
   ],
   "source": [
    "h[::1]"
   ]
  },
  {
   "cell_type": "code",
   "execution_count": 103,
   "id": "72a30a70-e399-4ccf-a0b3-3e4dfe1e042c",
   "metadata": {},
   "outputs": [
    {
     "data": {
      "text/plain": [
       "'anhsirkerah'"
      ]
     },
     "execution_count": 103,
     "metadata": {},
     "output_type": "execute_result"
    }
   ],
   "source": [
    "h[:-90:-1]"
   ]
  },
  {
   "cell_type": "code",
   "execution_count": 104,
   "id": "2cdc579b-8848-4d9a-9a8a-1493cd10d1ff",
   "metadata": {},
   "outputs": [
    {
     "data": {
      "text/plain": [
       "'harekrishna'"
      ]
     },
     "execution_count": 104,
     "metadata": {},
     "output_type": "execute_result"
    }
   ],
   "source": [
    "h[:90000:1]"
   ]
  },
  {
   "cell_type": "code",
   "execution_count": null,
   "id": "d3a05669-e85e-4f01-a7d7-02241b7ee88f",
   "metadata": {},
   "outputs": [],
   "source": [
    "us range me jitne data available hai to utna show krdega"
   ]
  },
  {
   "cell_type": "code",
   "execution_count": null,
   "id": "209a275b-6c9c-49d8-8282-7ff10d520d4c",
   "metadata": {},
   "outputs": [],
   "source": [
    "k = 200\n",
    "agr 200 me se hum directly koi no. niakel to vo nhi dega bcoz ye ek whole no. hai......"
   ]
  },
  {
   "cell_type": "code",
   "execution_count": 105,
   "id": "5b884b7e-4b8b-41c7-9d66-33a124677983",
   "metadata": {},
   "outputs": [],
   "source": [
    "k = \"200\""
   ]
  },
  {
   "cell_type": "code",
   "execution_count": 106,
   "id": "152d740d-119a-4744-98b2-5445f4afd5ae",
   "metadata": {},
   "outputs": [
    {
     "data": {
      "text/plain": [
       "'2'"
      ]
     },
     "execution_count": 106,
     "metadata": {},
     "output_type": "execute_result"
    }
   ],
   "source": [
    "k[0]"
   ]
  },
  {
   "cell_type": "code",
   "execution_count": null,
   "id": "9802cec8-9a8d-4488-a7bb-11e1a19e0575",
   "metadata": {},
   "outputs": [],
   "source": [
    "jab hamne 200 ko str me convert kia to usne ab apni real identity kho di hai... ab vo ek int na hoke ab ak str hai"
   ]
  },
  {
   "cell_type": "code",
   "execution_count": 107,
   "id": "5c1af8f3-013b-4195-ba76-dad904b69dcd",
   "metadata": {},
   "outputs": [],
   "source": [
    "hk = 'hare krishna'"
   ]
  },
  {
   "cell_type": "code",
   "execution_count": 109,
   "id": "466bb103-71c5-4e5d-a0ad-eb58aee5d069",
   "metadata": {},
   "outputs": [
    {
     "data": {
      "text/plain": [
       "12"
      ]
     },
     "execution_count": 109,
     "metadata": {},
     "output_type": "execute_result"
    }
   ],
   "source": [
    "len(hk)"
   ]
  },
  {
   "cell_type": "code",
   "execution_count": 110,
   "id": "c9f81650-9cd1-4158-ab97-c173db99d470",
   "metadata": {},
   "outputs": [
    {
     "data": {
      "text/plain": [
       "8"
      ]
     },
     "execution_count": 110,
     "metadata": {},
     "output_type": "execute_result"
    }
   ],
   "source": [
    "hk.find('s')"
   ]
  },
  {
   "cell_type": "code",
   "execution_count": 111,
   "id": "587e3a9f-23ec-41b9-9753-dc729b9ba09a",
   "metadata": {},
   "outputs": [
    {
     "data": {
      "text/plain": [
       "2"
      ]
     },
     "execution_count": 111,
     "metadata": {},
     "output_type": "execute_result"
    }
   ],
   "source": [
    "hk.find('r')"
   ]
  },
  {
   "cell_type": "code",
   "execution_count": 113,
   "id": "bd150201-5a84-4924-bb23-5245c3dc1e81",
   "metadata": {},
   "outputs": [
    {
     "data": {
      "text/plain": [
       "5"
      ]
     },
     "execution_count": 113,
     "metadata": {},
     "output_type": "execute_result"
    }
   ],
   "source": [
    "hk.find('krishna')"
   ]
  },
  {
   "cell_type": "code",
   "execution_count": 114,
   "id": "ba70eb8e-8e68-4476-8ab5-8478b5a8b73e",
   "metadata": {},
   "outputs": [
    {
     "data": {
      "text/plain": [
       "-1"
      ]
     },
     "execution_count": 114,
     "metadata": {},
     "output_type": "execute_result"
    }
   ],
   "source": [
    "hk.find('kriSHna')"
   ]
  },
  {
   "cell_type": "code",
   "execution_count": null,
   "id": "7c0c87a4-c35b-4d21-a316-5f645e48206e",
   "metadata": {},
   "outputs": [],
   "source": [
    "pyhton is case sensitive... jab use vo data nhi milega jo humne manga hai to vo -1 automatically dedega"
   ]
  },
  {
   "cell_type": "code",
   "execution_count": 116,
   "id": "80f26a66-eee1-4d6e-b04c-ea2bb130bc9f",
   "metadata": {},
   "outputs": [
    {
     "data": {
      "text/plain": [
       "1"
      ]
     },
     "execution_count": 116,
     "metadata": {},
     "output_type": "execute_result"
    }
   ],
   "source": [
    "hk.count('s')"
   ]
  },
  {
   "cell_type": "code",
   "execution_count": 117,
   "id": "13dcae8a-7543-4ed9-88f5-81d6d36f3611",
   "metadata": {},
   "outputs": [
    {
     "data": {
      "text/plain": [
       "2"
      ]
     },
     "execution_count": 117,
     "metadata": {},
     "output_type": "execute_result"
    }
   ],
   "source": [
    "hk.count('h')"
   ]
  },
  {
   "cell_type": "code",
   "execution_count": 118,
   "id": "e9a57265-992a-41b3-a2ee-a536d6edc67a",
   "metadata": {},
   "outputs": [
    {
     "data": {
      "text/plain": [
       "2"
      ]
     },
     "execution_count": 118,
     "metadata": {},
     "output_type": "execute_result"
    }
   ],
   "source": [
    "hk.count('a')"
   ]
  },
  {
   "cell_type": "code",
   "execution_count": 119,
   "id": "0e61b8c7-ce1a-4458-b331-653081770f42",
   "metadata": {},
   "outputs": [
    {
     "data": {
      "text/plain": [
       "0"
      ]
     },
     "execution_count": 119,
     "metadata": {},
     "output_type": "execute_result"
    }
   ],
   "source": [
    "hk.count('z')"
   ]
  },
  {
   "cell_type": "code",
   "execution_count": null,
   "id": "e7d7a645-e6a1-4414-bd27-fb4e73026a6e",
   "metadata": {},
   "outputs": [],
   "source": [
    "jab koi data avaialabe nhi hoga to count function 0 show krega"
   ]
  },
  {
   "cell_type": "code",
   "execution_count": 120,
   "id": "57cce703-8d58-4bc1-9a40-2464564f3d2a",
   "metadata": {},
   "outputs": [
    {
     "name": "stdout",
     "output_type": "stream",
     "text": [
      "hare krishna\n"
     ]
    }
   ],
   "source": [
    "print(hk)"
   ]
  },
  {
   "cell_type": "code",
   "execution_count": 121,
   "id": "5a24450c-97a9-459c-b047-4e2f156612e9",
   "metadata": {},
   "outputs": [
    {
     "data": {
      "text/plain": [
       "'HARE KRISHNA'"
      ]
     },
     "execution_count": 121,
     "metadata": {},
     "output_type": "execute_result"
    }
   ],
   "source": [
    "hk.upper()"
   ]
  },
  {
   "cell_type": "code",
   "execution_count": 122,
   "id": "05772949-f922-4ad5-9205-d118e464bf75",
   "metadata": {},
   "outputs": [],
   "source": [
    "hk = \"HARE KRISHNA\""
   ]
  },
  {
   "cell_type": "code",
   "execution_count": 123,
   "id": "98547622-1b28-4aba-a386-d44c02f35479",
   "metadata": {},
   "outputs": [
    {
     "data": {
      "text/plain": [
       "'hare krishna'"
      ]
     },
     "execution_count": 123,
     "metadata": {},
     "output_type": "execute_result"
    }
   ],
   "source": [
    "hk.lower()"
   ]
  },
  {
   "cell_type": "code",
   "execution_count": 124,
   "id": "82215eb4-3475-4000-a4d1-e1c87b429496",
   "metadata": {},
   "outputs": [
    {
     "data": {
      "text/plain": [
       "'Hare Krishna'"
      ]
     },
     "execution_count": 124,
     "metadata": {},
     "output_type": "execute_result"
    }
   ],
   "source": [
    "hk.title()"
   ]
  },
  {
   "cell_type": "code",
   "execution_count": null,
   "id": "4f58bb67-38f4-4afc-99ad-17459e1d9525",
   "metadata": {},
   "outputs": [],
   "source": [
    "title me har word ka pehla letter capital ho jayega"
   ]
  },
  {
   "cell_type": "code",
   "execution_count": 127,
   "id": "aa4cd8b3-6580-479c-9184-156ef83924a9",
   "metadata": {},
   "outputs": [
    {
     "data": {
      "text/plain": [
       "'Hare krishna'"
      ]
     },
     "execution_count": 127,
     "metadata": {},
     "output_type": "execute_result"
    }
   ],
   "source": [
    "hk.capitalize()"
   ]
  },
  {
   "cell_type": "code",
   "execution_count": null,
   "id": "1fdd58ab-ffa8-4f2c-be45-9f4d4157c19d",
   "metadata": {},
   "outputs": [],
   "source": [
    "capitalize pure sentence ke sabse pehle word ke pehle letter ko CAPITAL krdeta hai"
   ]
  },
  {
   "cell_type": "code",
   "execution_count": 128,
   "id": "d8bfbb47-71de-4bd2-849c-196afd613639",
   "metadata": {},
   "outputs": [
    {
     "ename": "TypeError",
     "evalue": "can only concatenate str (not \"int\") to str",
     "output_type": "error",
     "traceback": [
      "\u001b[0;31m---------------------------------------------------------------------------\u001b[0m",
      "\u001b[0;31mTypeError\u001b[0m                                 Traceback (most recent call last)",
      "Cell \u001b[0;32mIn[128], line 1\u001b[0m\n\u001b[0;32m----> 1\u001b[0m \u001b[43mhk\u001b[49m\u001b[43m \u001b[49m\u001b[38;5;241;43m+\u001b[39;49m\u001b[43m \u001b[49m\u001b[38;5;241;43m1\u001b[39;49m\n",
      "\u001b[0;31mTypeError\u001b[0m: can only concatenate str (not \"int\") to str"
     ]
    }
   ],
   "source": [
    "hk + 1"
   ]
  },
  {
   "cell_type": "code",
   "execution_count": null,
   "id": "012f7f0d-c002-4ea2-86c7-bb685a0be511",
   "metadata": {},
   "outputs": [],
   "source": [
    "str + int = error"
   ]
  },
  {
   "cell_type": "code",
   "execution_count": 132,
   "id": "bbfc8d21-4ef8-4ec4-a09d-614dcfe3c659",
   "metadata": {},
   "outputs": [],
   "source": [
    "hare = 'radha'\n",
    "krishna = 'krishna'"
   ]
  },
  {
   "cell_type": "code",
   "execution_count": 133,
   "id": "d1e18fae-baec-41fa-b141-e5dc852caa2a",
   "metadata": {},
   "outputs": [
    {
     "data": {
      "text/plain": [
       "'radhakrishna'"
      ]
     },
     "execution_count": 133,
     "metadata": {},
     "output_type": "execute_result"
    }
   ],
   "source": [
    "hare + krishna"
   ]
  },
  {
   "cell_type": "code",
   "execution_count": 134,
   "id": "f5019fda-4de3-4552-b0de-970d07c19621",
   "metadata": {},
   "outputs": [
    {
     "data": {
      "text/plain": [
       "'radhakrishna'"
      ]
     },
     "execution_count": 134,
     "metadata": {},
     "output_type": "execute_result"
    }
   ],
   "source": [
    "hare + 'krishna'"
   ]
  },
  {
   "cell_type": "code",
   "execution_count": 135,
   "id": "2ed222eb-ae8e-4621-8571-23b1fd057370",
   "metadata": {},
   "outputs": [
    {
     "data": {
      "text/plain": [
       "'radha108'"
      ]
     },
     "execution_count": 135,
     "metadata": {},
     "output_type": "execute_result"
    }
   ],
   "source": [
    "hare + str(108)"
   ]
  },
  {
   "cell_type": "code",
   "execution_count": 136,
   "id": "dba8afa4-aaf4-4275-9621-15e46914bb44",
   "metadata": {},
   "outputs": [
    {
     "data": {
      "text/plain": [
       "'radharadharadha'"
      ]
     },
     "execution_count": 136,
     "metadata": {},
     "output_type": "execute_result"
    }
   ],
   "source": [
    "hare * 3"
   ]
  },
  {
   "cell_type": "code",
   "execution_count": 137,
   "id": "ab49961d-af9c-4e4b-9a32-fe1f4d955012",
   "metadata": {},
   "outputs": [
    {
     "data": {
      "text/plain": [
       "'radharadharadha'"
      ]
     },
     "execution_count": 137,
     "metadata": {},
     "output_type": "execute_result"
    }
   ],
   "source": [
    "hare*3"
   ]
  },
  {
   "cell_type": "code",
   "execution_count": 138,
   "id": "9ca0fc81-75b2-4294-a26f-a90754e2f250",
   "metadata": {},
   "outputs": [
    {
     "data": {
      "text/plain": [
       "'krishnakrishnakrishnakrishnakrishnakrishnakrishnakrishnakrishnakrishnakrishnakrishnakrishnakrishnakrishnakrishnakrishnakrishnakrishnakrishnakrishnakrishnakrishnakrishnakrishnakrishnakrishnakrishnakrishnakrishnakrishnakrishnakrishnakrishnakrishnakrishnakrishnakrishnakrishnakrishnakrishnakrishnakrishnakrishnakrishnakrishnakrishnakrishnakrishnakrishnakrishnakrishnakrishnakrishnakrishnakrishnakrishnakrishnakrishnakrishnakrishnakrishnakrishnakrishnakrishnakrishnakrishnakrishnakrishnakrishnakrishnakrishnakrishnakrishnakrishnakrishnakrishnakrishnakrishnakrishnakrishnakrishnakrishnakrishnakrishnakrishnakrishnakrishnakrishnakrishnakrishnakrishnakrishnakrishnakrishnakrishnakrishnakrishnakrishnakrishnakrishnakrishnakrishnakrishnakrishnakrishnakrishnakrishna'"
      ]
     },
     "execution_count": 138,
     "metadata": {},
     "output_type": "execute_result"
    }
   ],
   "source": [
    "krishna*108"
   ]
  },
  {
   "cell_type": "code",
   "execution_count": 139,
   "id": "5afb53de-ef4a-4d90-8447-f514707d4506",
   "metadata": {},
   "outputs": [
    {
     "data": {
      "text/plain": [
       "'harekrishnaharekrishnaharekrishnaharekrishnaharekrishnaharekrishnaharekrishnaharekrishnaharekrishnaharekrishnaharekrishnaharekrishnaharekrishnaharekrishnaharekrishnaharekrishnaharekrishnaharekrishnaharekrishnaharekrishnaharekrishnaharekrishnaharekrishnaharekrishnaharekrishnaharekrishnaharekrishnaharekrishnaharekrishnaharekrishnaharekrishnaharekrishnaharekrishnaharekrishnaharekrishnaharekrishnaharekrishnaharekrishnaharekrishnaharekrishnaharekrishnaharekrishnaharekrishnaharekrishnaharekrishnaharekrishnaharekrishnaharekrishnaharekrishnaharekrishnaharekrishnaharekrishnaharekrishnaharekrishnaharekrishnaharekrishnaharekrishnaharekrishnaharekrishnaharekrishnaharekrishnaharekrishnaharekrishnaharekrishnaharekrishnaharekrishnaharekrishnaharekrishnaharekrishnaharekrishnaharekrishnaharekrishnaharekrishnaharekrishnaharekrishnaharekrishnaharekrishnaharekrishnaharekrishnaharekrishnaharekrishnaharekrishnaharekrishnaharekrishnaharekrishnaharekrishnaharekrishnaharekrishnaharekrishnaharekrishnaharekrishnaharekrishnaharekrishnaharekrishnaharekrishnaharekrishnaharekrishnaharekrishnaharekrishnaharekrishnaharekrishnaharekrishnaharekrishnaharekrishnaharekrishnaharekrishnaharekrishnaharekrishna'"
      ]
     },
     "execution_count": 139,
     "metadata": {},
     "output_type": "execute_result"
    }
   ],
   "source": [
    "\"harekrishna\"*108"
   ]
  },
  {
   "cell_type": "code",
   "execution_count": 140,
   "id": "2a4218f9-132d-4214-b0a6-30fcf7c6d6bf",
   "metadata": {},
   "outputs": [
    {
     "data": {
      "text/plain": [
       "\"don't do copy and paste in my class\""
      ]
     },
     "execution_count": 140,
     "metadata": {},
     "output_type": "execute_result"
    }
   ],
   "source": [
    "\"don't do copy and paste in my class\""
   ]
  },
  {
   "cell_type": "code",
   "execution_count": 141,
   "id": "5a533699-002e-417c-b108-719375ed2d54",
   "metadata": {},
   "outputs": [
    {
     "ename": "SyntaxError",
     "evalue": "unterminated string literal (detected at line 1) (1811489030.py, line 1)",
     "output_type": "error",
     "traceback": [
      "\u001b[0;36m  Cell \u001b[0;32mIn[141], line 1\u001b[0;36m\u001b[0m\n\u001b[0;31m    'don't do copy and paste in my class'\u001b[0m\n\u001b[0m                                        ^\u001b[0m\n\u001b[0;31mSyntaxError\u001b[0m\u001b[0;31m:\u001b[0m unterminated string literal (detected at line 1)\n"
     ]
    }
   ],
   "source": [
    "'don't do copy and paste in my class'"
   ]
  },
  {
   "cell_type": "code",
   "execution_count": null,
   "id": "af9c934f-a7f7-4091-8003-d1bc84098b12",
   "metadata": {},
   "outputs": [],
   "source": [
    "is baar hamne single quotes use kiye hai or str ke ander bhi single qote use hua hai to system comfuse ho gya hai "
   ]
  },
  {
   "cell_type": "code",
   "execution_count": 142,
   "id": "7d04c28d-dfd9-446f-a0e6-78b0d9abc267",
   "metadata": {},
   "outputs": [
    {
     "data": {
      "text/plain": [
       "'don\"t do copy and paste in my class'"
      ]
     },
     "execution_count": 142,
     "metadata": {},
     "output_type": "execute_result"
    }
   ],
   "source": [
    "'don\"t do copy and paste in my class'"
   ]
  },
  {
   "cell_type": "code",
   "execution_count": null,
   "id": "40020d6f-011d-4c1f-bfba-c003736d9b4f",
   "metadata": {},
   "outputs": [],
   "source": [
    "how to write commment in between code"
   ]
  },
  {
   "cell_type": "code",
   "execution_count": 144,
   "id": "cba970d7-a07f-408f-a2c6-04efc96ed969",
   "metadata": {},
   "outputs": [],
   "source": [
    "hk = \"hare krishna\""
   ]
  },
  {
   "cell_type": "code",
   "execution_count": 147,
   "id": "fd884fff-5ca1-45c1-9381-5cce5f4a238c",
   "metadata": {},
   "outputs": [
    {
     "data": {
      "text/plain": [
       "5"
      ]
     },
     "execution_count": 147,
     "metadata": {},
     "output_type": "execute_result"
    }
   ],
   "source": [
    "#this to find a code to find a character in between the str\n",
    "hk.find('k')"
   ]
  },
  {
   "cell_type": "code",
   "execution_count": null,
   "id": "e6f316c7-6666-458e-9b7b-0e1a8afefe51",
   "metadata": {},
   "outputs": [
    {
     "data": {
      "text/plain": [
       "'this is a \\ncode to find\\na character in\\nbetween a str'"
      ]
     },
     "execution_count": 149,
     "metadata": {},
     "output_type": "execute_result"
    }
   ],
   "source": [
    "\"\"\"this is a \n",
    "code to find\n",
    "a character in\n",
    "between a str"
   ]
  }
 ],
 "metadata": {
  "kernelspec": {
   "display_name": "Python 3 (ipykernel)",
   "language": "python",
   "name": "python3"
  },
  "language_info": {
   "codemirror_mode": {
    "name": "ipython",
    "version": 3
   },
   "file_extension": ".py",
   "mimetype": "text/x-python",
   "name": "python",
   "nbconvert_exporter": "python",
   "pygments_lexer": "ipython3",
   "version": "3.10.8"
  }
 },
 "nbformat": 4,
 "nbformat_minor": 5
}
